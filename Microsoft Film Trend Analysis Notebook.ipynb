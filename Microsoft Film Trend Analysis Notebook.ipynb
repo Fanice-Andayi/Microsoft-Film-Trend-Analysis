{
 "cells": [
  {
   "cell_type": "markdown",
   "metadata": {},
   "source": [
    "# Analyzing Film Trends for Microsoft's New Movie Studio\n",
    "**Authors:** Fanice Andayi\n",
    "***"
   ]
  },
  {
   "cell_type": "markdown",
   "metadata": {},
   "source": [
    "![Video content.jpg](<images and graphs/Video content.jpg>)"
   ]
  },
  {
   "cell_type": "markdown",
   "metadata": {},
   "source": [
    "\n",
    "# A) INTRODUCTION\n",
    "In an evolving landscape where original content reigns supreme, understanding the current cinematic trends that drive box office success is paramount for Microsoft's foray into the movie industry. This analysis delves into the diverse genres and themes that have proven their commercial prowess, offering actionable insights to guide the strategic direction of Microsoft's new movie studio. By examining the recent box office hits, audience preferences, and emerging patterns in storytelling, this exploration aims to illuminate the potential pathways for Microsoft to carve its niche and thrive in this competitive arena.\n",
    "# B) PROBLEM STATEMENT\n",
    "Microsoft sees all the big companies creating original video content and they want to get in on the fun. They have decided to create a new movie studio, but they don’t know anything about creating movies. You are charged with exploring what types of films are currently doing the best at the box office. You must then translate those findings into actionable insights that the head of Microsoft's new movie studio can use to help decide what type of films to create.\n",
    "# C) MAIN OBJECTIVE\n",
    "The main objective is to identify prevalent box office trends and audience preferences across genres, providing strategic direction for Microsoft's new movie studio to create compelling, commercially successful films that resonate with audiences and differentiate the brand in the market.\n",
    "# D) SPECIFIC OBJECTIVES\n",
    "Certainly! Here are specific objectives aligned with those aspects:\n",
    "\n",
    "1. **Top Studio Analysis:** Evaluate the leading studios .\n",
    "\n",
    "2. **Genre Performance Assessment:** Analyze the performance of various genres ,identifying genres with consistent success and potential for growth.\n",
    "\n",
    "3. **Budget-Revenue Dynamics:** Investigate the correlation between film budgets and revenue aiming to uncover optimal budgetary ranges that maximize profitability without compromise.\n",
    "# E) NOTEBOOK STRUCTURE\n",
    "1.Overview\n",
    "\n",
    "2.Business Understanding \n",
    "\n",
    "3.Data Understanding\n",
    "\n",
    "4.Data preparation/Cleaning\n",
    "\n",
    "5.Data Analysis and Evaluation - Visualizations\n",
    "\n",
    "6.Conclusion - Recommendations,Limitations,Next Steps.\n"
   ]
  },
  {
   "cell_type": "markdown",
   "metadata": {},
   "source": [
    "![Analysis photo.jpg](<images and graphs/Analysis photo.jpg>)"
   ]
  },
  {
   "cell_type": "markdown",
   "metadata": {},
   "source": [
    "## 1. Overview\n",
    "\n",
    "\n",
    "This project aims to guide Microsoft's foray into the film industry by analyzing current box office trends to determine the most successful film genres. Leveraging data from box office performances, audience demographics, and critical reception, the study assesses the top-performing genres in recent years, emphasizing revenue generation, audience engagement, and market demands. Employing a mix of statistical analysis and industry research, the study unveils films that have consistently dominated the box office, garnering substantial profits and wide audience appeal. Moreover, it highlights the significance of strong storytelling, visual effects, and engaging characters in driving success within these genres. The findings recommend a strategic focus on certain genres for Microsoft's new movie studio, coupled with a dedication to high revenues, leading studios, and immersive visual experiences to maximize market penetration and profitability."
   ]
  },
  {
   "cell_type": "markdown",
   "metadata": {},
   "source": [
    "## 2. Business Understanding\n",
    "The business problem at hand is Microsoft's venture into the film industry without prior expertise in movie production. The main pain point is the lack of understanding about which film genres are most successful at the box office. To address this, the analysis aims to answer key data questions:\n",
    "\n",
    "1. **Which studio movies are most watched ?**\n",
    "   - Analyzing the studios performing well enables us to better what they do and even provide a chance for collaboration regarding creating film content.\n",
    "\n",
    "2. **Which film genres have consistently performed well at the box office in recent years?**\n",
    "   - Understanding the top-performing genres provides critical insights into market trends and audience preferences, guiding Microsoft's studio toward potentially lucrative areas of production.\n",
    "\n",
    "2. **What is the relationship between production_budgets and gross(earnings)?**\n",
    "   - Analyzing revenue trends in relation to the gross(earnings) helps quantify the financial potential and profitability of specific film types, enabling informed decisions on investment allocation.\n",
    "\n",
    "\n",
    "\n",
    "To understand the datasets we are working with we first explore our data by loading the datasets.\n"
   ]
  },
  {
   "cell_type": "code",
   "execution_count": 13,
   "metadata": {},
   "outputs": [],
   "source": [
    "# Import standard packages\n",
    "import pandas as pd\n",
    "import numpy as np\n",
    "import matplotlib.pyplot as plt\n",
    "import seaborn as sns\n",
    "\n",
    "%matplotlib inline\n",
    "\n",
    "import sqlite3\n"
   ]
  },
  {
   "cell_type": "code",
   "execution_count": 14,
   "metadata": {},
   "outputs": [],
   "source": [
    "#Here you can run your code to explore data"
   ]
  },
  {
   "cell_type": "code",
   "execution_count": 15,
   "metadata": {},
   "outputs": [
    {
     "name": "stdout",
     "output_type": "stream",
     "text": [
      "('movie_basics',)\n",
      "('directors',)\n",
      "('known_for',)\n",
      "('movie_akas',)\n",
      "('movie_ratings',)\n",
      "('persons',)\n",
      "('principals',)\n",
      "('writers',)\n"
     ]
    }
   ],
   "source": [
    "\n",
    "\n",
    "# Connect to the SQLite database\n",
    "conn = sqlite3.connect('data/im.db')\n",
    "\n",
    "# Create a cursor object\n",
    "cur = conn.cursor()\n",
    "\n",
    "# Get the list of all tables\n",
    "cur.execute(\"SELECT name FROM sqlite_master WHERE type='table';\")\n",
    "\n",
    "# Print all tables\n",
    "tables = cur.fetchall()\n",
    "for table in tables:\n",
    "    print(table)\n",
    "\n",
    "# Close the connection\n",
    "conn.close()"
   ]
  },
  {
   "cell_type": "code",
   "execution_count": 16,
   "metadata": {},
   "outputs": [
    {
     "name": "stdout",
     "output_type": "stream",
     "text": [
      "[('movie_basics',), ('directors',), ('known_for',), ('movie_akas',), ('movie_ratings',), ('persons',), ('principals',), ('writers',)]\n"
     ]
    }
   ],
   "source": [
    "\n",
    "# Connect to the SQLite database\n",
    "conn = sqlite3.connect('data/im.db')\n",
    "# Create a cursor object\n",
    "cur = conn.cursor()\n",
    "# Get the list of all tables\n",
    "cur.execute(\"SELECT name FROM sqlite_master WHERE type='table';\")\n",
    "# Print all tables\n",
    "print(cur.fetchall())\n",
    "# Close the connection\n",
    "conn.close()"
   ]
  },
  {
   "cell_type": "code",
   "execution_count": 17,
   "metadata": {},
   "outputs": [
    {
     "name": "stdout",
     "output_type": "stream",
     "text": [
      "Movie Basics Data:\n",
      "    movie_id                    primary_title              original_title  \\\n",
      "0  tt0063540                        Sunghursh                   Sunghursh   \n",
      "1  tt0066787  One Day Before the Rainy Season             Ashad Ka Ek Din   \n",
      "2  tt0069049       The Other Side of the Wind  The Other Side of the Wind   \n",
      "3  tt0069204                  Sabse Bada Sukh             Sabse Bada Sukh   \n",
      "4  tt0100275         The Wandering Soap Opera       La Telenovela Errante   \n",
      "\n",
      "   start_year  runtime_minutes                genres  \n",
      "0        2013            175.0    Action,Crime,Drama  \n",
      "1        2019            114.0       Biography,Drama  \n",
      "2        2018            122.0                 Drama  \n",
      "3        2018              NaN          Comedy,Drama  \n",
      "4        2017             80.0  Comedy,Drama,Fantasy  \n",
      "\n",
      "Movie Ratings Data:\n",
      "     movie_id  averagerating  numvotes\n",
      "0  tt10356526            8.3        31\n",
      "1  tt10384606            8.9       559\n",
      "2   tt1042974            6.4        20\n",
      "3   tt1043726            4.2     50352\n",
      "4   tt1060240            6.5        21\n"
     ]
    }
   ],
   "source": [
    "\n",
    "\n",
    "db_path = 'data/im.db'  # Path to the extracted SQLite database\n",
    "\n",
    "# Connect to the SQLite database\n",
    "conn = sqlite3.connect(db_path)\n",
    "\n",
    "\n",
    "# Read movie_basics table\n",
    "movie_basics_query = \"SELECT * FROM movie_basics LIMIT 10\"  # Fetching first 10 rows \n",
    "movie_basics_data = pd.read_sql_query(movie_basics_query, conn)\n",
    "print(\"Movie Basics Data:\")\n",
    "print(movie_basics_data.head())\n",
    "\n",
    "# Read movie_ratings table\n",
    "movie_ratings_query = \"SELECT * FROM movie_ratings LIMIT 10\"  # Fetching first 10 rows \n",
    "movie_ratings_data = pd.read_sql_query(movie_ratings_query, conn)\n",
    "print(\"\\nMovie Ratings Data:\")\n",
    "print(movie_ratings_data.head())\n",
    "\n",
    "# Close the database connection\n",
    "conn.close()\n"
   ]
  },
  {
   "cell_type": "code",
   "execution_count": 18,
   "metadata": {},
   "outputs": [
    {
     "name": "stdout",
     "output_type": "stream",
     "text": [
      "                                         title studio  domestic_gross  \\\n",
      "0                                  Toy Story 3     BV     415000000.0   \n",
      "1                   Alice in Wonderland (2010)     BV     334200000.0   \n",
      "2  Harry Potter and the Deathly Hallows Part 1     WB     296000000.0   \n",
      "3                                    Inception     WB     292600000.0   \n",
      "4                          Shrek Forever After   P/DW     238700000.0   \n",
      "\n",
      "  foreign_gross  year  \n",
      "0     652000000  2010  \n",
      "1     691300000  2010  \n",
      "2     664300000  2010  \n",
      "3     535700000  2010  \n",
      "4     513900000  2010  \n"
     ]
    }
   ],
   "source": [
    "#loading the 1st dataset\n",
    "bom_movie_gross= 'data/bom.movie_gross.csv'\n",
    "# Load the CSV file into a Pandas DataFrame\n",
    "bom_movie_gross_data = pd.read_csv(bom_movie_gross)\n",
    "# Display the first few rows of the dataset to ensure it's loaded correctly\n",
    "print(bom_movie_gross_data.head())"
   ]
  },
  {
   "cell_type": "code",
   "execution_count": 19,
   "metadata": {},
   "outputs": [
    {
     "name": "stdout",
     "output_type": "stream",
     "text": [
      "   Unnamed: 0            genre_ids     id original_language  \\\n",
      "0           0      [12, 14, 10751]  12444                en   \n",
      "1           1  [14, 12, 16, 10751]  10191                en   \n",
      "2           2        [12, 28, 878]  10138                en   \n",
      "3           3      [16, 35, 10751]    862                en   \n",
      "4           4        [28, 878, 12]  27205                en   \n",
      "\n",
      "                                 original_title  popularity release_date  \\\n",
      "0  Harry Potter and the Deathly Hallows: Part 1      33.533   2010-11-19   \n",
      "1                      How to Train Your Dragon      28.734   2010-03-26   \n",
      "2                                    Iron Man 2      28.515   2010-05-07   \n",
      "3                                     Toy Story      28.005   1995-11-22   \n",
      "4                                     Inception      27.920   2010-07-16   \n",
      "\n",
      "                                          title  vote_average  vote_count  \n",
      "0  Harry Potter and the Deathly Hallows: Part 1           7.7       10788  \n",
      "1                      How to Train Your Dragon           7.7        7610  \n",
      "2                                    Iron Man 2           6.8       12368  \n",
      "3                                     Toy Story           7.9       10174  \n",
      "4                                     Inception           8.3       22186  \n"
     ]
    }
   ],
   "source": [
    "\n",
    "\n",
    "# Loading the 2nd dataset\n",
    "tmdb_movies = 'data/tmdb.movies.csv'\n",
    "\n",
    "# Load the CSV file into a Pandas DataFrame\n",
    "tmdb_movies_data = pd.read_csv(tmdb_movies)\n",
    "\n",
    "# Display the first few rows of the dataset to ensure it's loaded correctly\n",
    "print(tmdb_movies_data.head())\n"
   ]
  },
  {
   "cell_type": "code",
   "execution_count": 20,
   "metadata": {},
   "outputs": [
    {
     "name": "stdout",
     "output_type": "stream",
     "text": [
      "   id  release_date                                        movie  \\\n",
      "0   1  Dec 18, 2009                                       Avatar   \n",
      "1   2  May 20, 2011  Pirates of the Caribbean: On Stranger Tides   \n",
      "2   3   Jun 7, 2019                                 Dark Phoenix   \n",
      "3   4   May 1, 2015                      Avengers: Age of Ultron   \n",
      "4   5  Dec 15, 2017            Star Wars Ep. VIII: The Last Jedi   \n",
      "\n",
      "  production_budget domestic_gross worldwide_gross  \n",
      "0      $425,000,000   $760,507,625  $2,776,345,279  \n",
      "1      $410,600,000   $241,063,875  $1,045,663,875  \n",
      "2      $350,000,000    $42,762,350    $149,762,350  \n",
      "3      $330,600,000   $459,005,868  $1,403,013,963  \n",
      "4      $317,000,000   $620,181,382  $1,316,721,747  \n"
     ]
    }
   ],
   "source": [
    "#loading the 3rd dataset\n",
    "tn_movie_budgets= 'data/tn.movie_budgets.csv'\n",
    "# Load the CSV file into a Pandas DataFrame\n",
    "tn_movie_budgets_data = pd.read_csv(tn_movie_budgets)\n",
    "# Display the first few rows of the dataset to ensure it's loaded correctly\n",
    "print(tn_movie_budgets_data.head())"
   ]
  },
  {
   "cell_type": "code",
   "execution_count": 21,
   "metadata": {},
   "outputs": [
    {
     "name": "stdout",
     "output_type": "stream",
     "text": [
      "   id                                           synopsis rating  \\\n",
      "0   1  This gritty, fast-paced, and innovative police...      R   \n",
      "1   3  New York City, not-too-distant-future: Eric Pa...      R   \n",
      "2   5  Illeana Douglas delivers a superb performance ...      R   \n",
      "3   6  Michael Douglas runs afoul of a treacherous su...      R   \n",
      "4   7                                                NaN     NR   \n",
      "\n",
      "                                 genre          director  \\\n",
      "0  Action and Adventure|Classics|Drama  William Friedkin   \n",
      "1    Drama|Science Fiction and Fantasy  David Cronenberg   \n",
      "2    Drama|Musical and Performing Arts    Allison Anders   \n",
      "3           Drama|Mystery and Suspense    Barry Levinson   \n",
      "4                        Drama|Romance    Rodney Bennett   \n",
      "\n",
      "                            writer  theater_date      dvd_date currency  \\\n",
      "0                   Ernest Tidyman   Oct 9, 1971  Sep 25, 2001      NaN   \n",
      "1     David Cronenberg|Don DeLillo  Aug 17, 2012   Jan 1, 2013        $   \n",
      "2                   Allison Anders  Sep 13, 1996  Apr 18, 2000      NaN   \n",
      "3  Paul Attanasio|Michael Crichton   Dec 9, 1994  Aug 27, 1997      NaN   \n",
      "4                     Giles Cooper           NaN           NaN      NaN   \n",
      "\n",
      "  box_office      runtime             studio  \n",
      "0        NaN  104 minutes                NaN  \n",
      "1    600,000  108 minutes  Entertainment One  \n",
      "2        NaN  116 minutes                NaN  \n",
      "3        NaN  128 minutes                NaN  \n",
      "4        NaN  200 minutes                NaN  \n"
     ]
    }
   ],
   "source": [
    "#loading for a tsv file\n",
    "\n",
    "# Load Rotten Tomatoes movie info TSV\n",
    "rt_movie_info = pd.read_csv('data/rt.movie_info.tsv', sep='\\t')\n",
    "\n",
    "# Display the first few rows of the loaded data\n",
    "print(rt_movie_info.head())\n",
    "\n"
   ]
  },
  {
   "cell_type": "code",
   "execution_count": 22,
   "metadata": {},
   "outputs": [
    {
     "name": "stdout",
     "output_type": "stream",
     "text": [
      "\n",
      "Rotten Tomatoes reviews:\n",
      "   id                                             review rating   fresh  \\\n",
      "0   3  A distinctly gallows take on contemporary fina...    3/5   fresh   \n",
      "1   3  It's an allegory in search of a meaning that n...    NaN  rotten   \n",
      "2   3  ... life lived in a bubble in financial dealin...    NaN   fresh   \n",
      "3   3  Continuing along a line introduced in last yea...    NaN   fresh   \n",
      "4   3             ... a perverse twist on neorealism...     NaN   fresh   \n",
      "\n",
      "           critic  top_critic         publisher               date  \n",
      "0      PJ Nabarro           0   Patrick Nabarro  November 10, 2018  \n",
      "1  Annalee Newitz           0           io9.com       May 23, 2018  \n",
      "2    Sean Axmaker           0  Stream on Demand    January 4, 2018  \n",
      "3   Daniel Kasman           0              MUBI  November 16, 2017  \n",
      "4             NaN           0      Cinema Scope   October 12, 2017  \n"
     ]
    }
   ],
   "source": [
    "#loading the reviews tsv file\n",
    "with open('data/rt.reviews.tsv', 'rt',encoding='latin -1') as f:\n",
    "    rt_reviews = pd.read_csv(f, sep='\\t')\n",
    "\n",
    "print(\"\\nRotten Tomatoes reviews:\")\n",
    "print(rt_reviews.head())"
   ]
  },
  {
   "cell_type": "markdown",
   "metadata": {},
   "source": [
    "## 3. Data Understanding\n",
    "The data utilized for this project is sourced from comprehensive databases such as the box office movies,the numbers and market research on film performances. These datasets are instrumental in addressing the data analysis questions .\n",
    "\n",
    "1. **Data Origin and Relevance to Analysis Questions:**\n",
    "   - The data primarily originate from reputable sources tracking box office performances, film genres, revenues, audience demographics, and critical reception. These sources offer insights into film success metrics relevant to understanding genre performance.\n",
    "\n",
    "2. **Representation and Variables:**\n",
    "   - The dataset encompasses a broad range of films released in recent years, including variables such as film title, release date, genre categorization, box office revenue, production budget, audience demographics (age, gender, location), critical ratings, and perhaps viewer ratings.\n",
    "  \n",
    "3. **Target Variable:**\n",
    "   - The primary target variables are box office revenue, genre categorization, and audience demographics. Understanding how these variables interact and influence each other is crucial in shaping the studio's strategic decisions.\n",
    "\n",
    "4. **Properties of Variables:**\n",
    "   - Box office revenue and production budget typically represent continuous numerical values.\n",
    "   - Genre categorization is categorical, allowing for classification and comparison of different film types.\n",
    "   - Audience demographics may include categorical and numerical values, providing insights into the composition and preferences of the movie-going audience.\n",
    "\n",
    "The dataset's richness in film-related information allows for comprehensive analysis and exploration of correlations between genres, revenues, audience characteristics, and critical reception, serving as a robust foundation for deriving actionable insights to guide Microsoft's movie studio endeavors.\n",
    "We are going to be checking the data for the following:\n",
    "\n",
    "a.Determine the number of records \n",
    "\n",
    "b.Preview top and bottom of our dataset\n",
    "\n",
    "c.Check whether each column has an appropriate data type"
   ]
  },
  {
   "cell_type": "markdown",
   "metadata": {},
   "source": [
    "# a)Determining the number of records \n",
    "We will be using 4 datasets for our analysis :\n",
    "- Box office movies\n",
    "- Movie basics\n",
    "- Movie ratings\n",
    "- The mumbers movie budgets"
   ]
  },
  {
   "cell_type": "code",
   "execution_count": 23,
   "metadata": {},
   "outputs": [
    {
     "name": "stdout",
     "output_type": "stream",
     "text": [
      "Number of records: 3387\n"
     ]
    }
   ],
   "source": [
    "#for the box office movies\n",
    "\n",
    "num_records = bom_movie_gross_data.shape[0]\n",
    "print(\"Number of records:\", num_records)\n"
   ]
  },
  {
   "cell_type": "code",
   "execution_count": 24,
   "metadata": {},
   "outputs": [
    {
     "name": "stdout",
     "output_type": "stream",
     "text": [
      "Number of records: 10\n"
     ]
    }
   ],
   "source": [
    "#for the movie basics\n",
    "\n",
    "num_records = movie_basics_data.shape[0]\n",
    "print(\"Number of records:\", num_records)\n"
   ]
  },
  {
   "cell_type": "code",
   "execution_count": 25,
   "metadata": {},
   "outputs": [
    {
     "name": "stdout",
     "output_type": "stream",
     "text": [
      "Number of records: 10\n"
     ]
    }
   ],
   "source": [
    "# for the movie ratings\n",
    "\n",
    "num_records = movie_ratings_data.shape[0]\n",
    "print(\"Number of records:\", num_records)\n"
   ]
  },
  {
   "cell_type": "code",
   "execution_count": 26,
   "metadata": {},
   "outputs": [
    {
     "name": "stdout",
     "output_type": "stream",
     "text": [
      "Number of records: 5782\n"
     ]
    }
   ],
   "source": [
    "# for the numbers movie budgets\n",
    "\n",
    "num_records = tn_movie_budgets_data.shape[0]\n",
    "print(\"Number of records:\", num_records)\n"
   ]
  },
  {
   "cell_type": "markdown",
   "metadata": {},
   "source": [
    "# b).Preview top and bottom  rows of our dataset\n",
    "Previewing for all our datasets\n",
    "\n",
    "\n"
   ]
  },
  {
   "cell_type": "code",
   "execution_count": 27,
   "metadata": {},
   "outputs": [
    {
     "name": "stdout",
     "output_type": "stream",
     "text": [
      "Top of the dataset:\n",
      "                                         title studio  domestic_gross  \\\n",
      "0                                  Toy Story 3     BV     415000000.0   \n",
      "1                   Alice in Wonderland (2010)     BV     334200000.0   \n",
      "2  Harry Potter and the Deathly Hallows Part 1     WB     296000000.0   \n",
      "3                                    Inception     WB     292600000.0   \n",
      "4                          Shrek Forever After   P/DW     238700000.0   \n",
      "\n",
      "  foreign_gross  year  \n",
      "0     652000000  2010  \n",
      "1     691300000  2010  \n",
      "2     664300000  2010  \n",
      "3     535700000  2010  \n",
      "4     513900000  2010  \n"
     ]
    }
   ],
   "source": [
    "# Preview the bottom of the dataset\n",
    "bottom_rows = bom_movie_gross_data.head()\n",
    "print(\"Top of the dataset:\")\n",
    "print(bottom_rows)\n"
   ]
  },
  {
   "cell_type": "code",
   "execution_count": 28,
   "metadata": {},
   "outputs": [
    {
     "name": "stdout",
     "output_type": "stream",
     "text": [
      "Bottom of the dataset:\n",
      "                            title      studio  domestic_gross foreign_gross  \\\n",
      "3382                    The Quake       Magn.          6200.0           NaN   \n",
      "3383  Edward II (2018 re-release)          FM          4800.0           NaN   \n",
      "3384                     El Pacto        Sony          2500.0           NaN   \n",
      "3385                     The Swan  Synergetic          2400.0           NaN   \n",
      "3386            An Actor Prepares       Grav.          1700.0           NaN   \n",
      "\n",
      "      year  \n",
      "3382  2018  \n",
      "3383  2018  \n",
      "3384  2018  \n",
      "3385  2018  \n",
      "3386  2018  \n"
     ]
    }
   ],
   "source": [
    "# Preview the bottom of the dataset\n",
    "bottom_rows = bom_movie_gross_data.tail()\n",
    "print(\"Bottom of the dataset:\")\n",
    "print(bottom_rows)\n"
   ]
  },
  {
   "cell_type": "code",
   "execution_count": 29,
   "metadata": {},
   "outputs": [
    {
     "name": "stdout",
     "output_type": "stream",
     "text": [
      "Top of the dataset:\n",
      "    movie_id                    primary_title              original_title  \\\n",
      "0  tt0063540                        Sunghursh                   Sunghursh   \n",
      "1  tt0066787  One Day Before the Rainy Season             Ashad Ka Ek Din   \n",
      "2  tt0069049       The Other Side of the Wind  The Other Side of the Wind   \n",
      "3  tt0069204                  Sabse Bada Sukh             Sabse Bada Sukh   \n",
      "4  tt0100275         The Wandering Soap Opera       La Telenovela Errante   \n",
      "\n",
      "   start_year  runtime_minutes                genres  \n",
      "0        2013            175.0    Action,Crime,Drama  \n",
      "1        2019            114.0       Biography,Drama  \n",
      "2        2018            122.0                 Drama  \n",
      "3        2018              NaN          Comedy,Drama  \n",
      "4        2017             80.0  Comedy,Drama,Fantasy  \n"
     ]
    }
   ],
   "source": [
    "# Preview the top of the dataset\n",
    "top_rows = movie_basics_data.head()\n",
    "print(\"Top of the dataset:\")\n",
    "print(top_rows)\n"
   ]
  },
  {
   "cell_type": "code",
   "execution_count": 30,
   "metadata": {},
   "outputs": [
    {
     "name": "stdout",
     "output_type": "stream",
     "text": [
      "Bottom of the dataset:\n",
      "    movie_id          primary_title         original_title  start_year  \\\n",
      "5  tt0111414            A Thin Life            A Thin Life        2018   \n",
      "6  tt0112502                Bigfoot                Bigfoot        2017   \n",
      "7  tt0137204        Joe Finds Grace        Joe Finds Grace        2017   \n",
      "8  tt0139613             O Silêncio             O Silêncio        2012   \n",
      "9  tt0144449  Nema aviona za Zagreb  Nema aviona za Zagreb        2012   \n",
      "\n",
      "   runtime_minutes                      genres  \n",
      "5             75.0                      Comedy  \n",
      "6              NaN             Horror,Thriller  \n",
      "7             83.0  Adventure,Animation,Comedy  \n",
      "8              NaN         Documentary,History  \n",
      "9             82.0                   Biography  \n"
     ]
    }
   ],
   "source": [
    "# Preview the bottom of the dataset\n",
    "bottom_rows = movie_basics_data.tail()\n",
    "print(\"Bottom of the dataset:\")\n",
    "print(bottom_rows)\n"
   ]
  },
  {
   "cell_type": "code",
   "execution_count": 31,
   "metadata": {},
   "outputs": [
    {
     "name": "stdout",
     "output_type": "stream",
     "text": [
      "Top of the dataset:\n",
      "     movie_id  averagerating  numvotes\n",
      "0  tt10356526            8.3        31\n",
      "1  tt10384606            8.9       559\n",
      "2   tt1042974            6.4        20\n",
      "3   tt1043726            4.2     50352\n",
      "4   tt1060240            6.5        21\n"
     ]
    }
   ],
   "source": [
    "# Preview the top of the dataset\n",
    "top_rows = movie_ratings_data.head()\n",
    "print(\"Top of the dataset:\")\n",
    "print(top_rows)\n"
   ]
  },
  {
   "cell_type": "code",
   "execution_count": 32,
   "metadata": {},
   "outputs": [
    {
     "name": "stdout",
     "output_type": "stream",
     "text": [
      "Bottom of the dataset:\n",
      "    movie_id  averagerating  numvotes\n",
      "5  tt1069246            6.2       326\n",
      "6  tt1094666            7.0      1613\n",
      "7  tt1130982            6.4       571\n",
      "8  tt1156528            7.2       265\n",
      "9  tt1161457            4.2       148\n"
     ]
    }
   ],
   "source": [
    "# Preview the bottom of the dataset\n",
    "bottom_rows = movie_ratings_data.tail()\n",
    "print(\"Bottom of the dataset:\")\n",
    "print(bottom_rows)\n"
   ]
  },
  {
   "cell_type": "code",
   "execution_count": 33,
   "metadata": {},
   "outputs": [
    {
     "name": "stdout",
     "output_type": "stream",
     "text": [
      "Top of the dataset:\n",
      "   id  release_date                                        movie  \\\n",
      "0   1  Dec 18, 2009                                       Avatar   \n",
      "1   2  May 20, 2011  Pirates of the Caribbean: On Stranger Tides   \n",
      "2   3   Jun 7, 2019                                 Dark Phoenix   \n",
      "3   4   May 1, 2015                      Avengers: Age of Ultron   \n",
      "4   5  Dec 15, 2017            Star Wars Ep. VIII: The Last Jedi   \n",
      "\n",
      "  production_budget domestic_gross worldwide_gross  \n",
      "0      $425,000,000   $760,507,625  $2,776,345,279  \n",
      "1      $410,600,000   $241,063,875  $1,045,663,875  \n",
      "2      $350,000,000    $42,762,350    $149,762,350  \n",
      "3      $330,600,000   $459,005,868  $1,403,013,963  \n",
      "4      $317,000,000   $620,181,382  $1,316,721,747  \n"
     ]
    }
   ],
   "source": [
    "# Preview the top of the dataset\n",
    "top_rows = tn_movie_budgets_data.head()\n",
    "print(\"Top of the dataset:\")\n",
    "print(top_rows)\n"
   ]
  },
  {
   "cell_type": "code",
   "execution_count": 34,
   "metadata": {},
   "outputs": [
    {
     "name": "stdout",
     "output_type": "stream",
     "text": [
      "Bottom of the dataset:\n",
      "      id  release_date                          movie production_budget  \\\n",
      "5777  78  Dec 31, 2018                         Red 11            $7,000   \n",
      "5778  79   Apr 2, 1999                      Following            $6,000   \n",
      "5779  80  Jul 13, 2005  Return to the Land of Wonders            $5,000   \n",
      "5780  81  Sep 29, 2015           A Plague So Pleasant            $1,400   \n",
      "5781  82   Aug 5, 2005              My Date With Drew            $1,100   \n",
      "\n",
      "     domestic_gross worldwide_gross  \n",
      "5777             $0              $0  \n",
      "5778        $48,482        $240,495  \n",
      "5779         $1,338          $1,338  \n",
      "5780             $0              $0  \n",
      "5781       $181,041        $181,041  \n"
     ]
    }
   ],
   "source": [
    "# Preview the bottom of the dataset\n",
    "bottom_rows = tn_movie_budgets_data.tail()\n",
    "print(\"Bottom of the dataset:\")\n",
    "print(bottom_rows)\n"
   ]
  },
  {
   "cell_type": "markdown",
   "metadata": {},
   "source": [
    "# c).Checking data types in various columns\n",
    "- This involves checking whether the columns have appropriate data types \n"
   ]
  },
  {
   "cell_type": "code",
   "execution_count": 35,
   "metadata": {},
   "outputs": [
    {
     "name": "stdout",
     "output_type": "stream",
     "text": [
      "Data types of each column:\n",
      "title              object\n",
      "studio             object\n",
      "domestic_gross    float64\n",
      "foreign_gross      object\n",
      "year                int64\n",
      "dtype: object\n"
     ]
    }
   ],
   "source": [
    "# Check the data types of each column in the dataset\n",
    "data_types = bom_movie_gross_data.dtypes\n",
    "print(\"Data types of each column:\")\n",
    "print(data_types)\n"
   ]
  },
  {
   "cell_type": "code",
   "execution_count": 36,
   "metadata": {},
   "outputs": [
    {
     "name": "stdout",
     "output_type": "stream",
     "text": [
      "Data types of each column:\n",
      "movie_id            object\n",
      "primary_title       object\n",
      "original_title      object\n",
      "start_year           int64\n",
      "runtime_minutes    float64\n",
      "genres              object\n",
      "dtype: object\n"
     ]
    }
   ],
   "source": [
    "# Check the data types of each column in the dataset\n",
    "data_types = movie_basics_data.dtypes\n",
    "print(\"Data types of each column:\")\n",
    "print(data_types)\n"
   ]
  },
  {
   "cell_type": "code",
   "execution_count": 37,
   "metadata": {},
   "outputs": [
    {
     "name": "stdout",
     "output_type": "stream",
     "text": [
      "Data types of each column:\n",
      "movie_id          object\n",
      "averagerating    float64\n",
      "numvotes           int64\n",
      "dtype: object\n"
     ]
    }
   ],
   "source": [
    "# Check the data types of each column in the dataset\n",
    "data_types = movie_ratings_data.dtypes\n",
    "print(\"Data types of each column:\")\n",
    "print(data_types)\n"
   ]
  },
  {
   "cell_type": "code",
   "execution_count": 38,
   "metadata": {},
   "outputs": [
    {
     "name": "stdout",
     "output_type": "stream",
     "text": [
      "Data types of each column:\n",
      "id                    int64\n",
      "release_date         object\n",
      "movie                object\n",
      "production_budget    object\n",
      "domestic_gross       object\n",
      "worldwide_gross      object\n",
      "dtype: object\n"
     ]
    }
   ],
   "source": [
    "# Check the data types of each column in the dataset\n",
    "data_types = tn_movie_budgets_data.dtypes\n",
    "print(\"Data types of each column:\")\n",
    "print(data_types)\n"
   ]
  },
  {
   "cell_type": "markdown",
   "metadata": {},
   "source": [
    "## 4. Data Preparation/Cleaning\n",
    "\n",
    "Describe and justify the process for preparing the data for analysis.\n",
    "Questions to consider:\n",
    "* Were there variables you dropped or created?\n",
    "* How did you address missing values or outliers?\n",
    "* Why are these choices appropriate given the data and the business problem?\n",
    "Here we are going to follow the steps below for data preparation:\n",
    "\n",
    "In preparing the data for analysis in the context of understanding successful films at the box office, several steps were taken to ensure the data's quality, relevance, and reliability. Here's an overview of the data preparation process and the reasoning behind the decisions made:\n",
    "\n",
    "a)Checking for missing data\n",
    "\n",
    "b)Checking for outliers\n",
    "\n",
    "c)Checking for duplicates\n",
    "\n",
    "Then we data clean using the following techniques:\n",
    "\n",
    "a)Handling Missing Values:\n",
    "- **Imputation:** For missing values, common strategies like  median imputation for numerical variables imputation for categorical variables  have been used. Imputation techniques were chosen based on the nature of the missing data and their potential impact on the analysis.\n",
    "- **Dropping Rows or Columns:** Rows with a high percentage of missing values or lacking critical information have been dropped .\n",
    "\n",
    "b)Outlier Treatment:\n",
    "- **Identification and Adjustment:** Outliers, if detected, could skew statistical analysis. Methods like trimming, capping, or using more robust statistical techniques (e.g., winsorization) might have been employed to address extreme values that could distort insights into movie success attributes.\n",
    "\n",
    "c)Changing data types:\n",
    "During data understanding we noticed that some gross columns were Objects instead of integers/floats this needs to be rectified inorder to visualize appropriately.\n",
    "\n",
    "The data preparation process was critical to ensuring that the subsequent analysis provided meaningful insights into successful movie attributes at the box office, guiding decision-making for Microsoft's new movie studio venture."
   ]
  },
  {
   "cell_type": "code",
   "execution_count": 39,
   "metadata": {},
   "outputs": [],
   "source": [
    "# Here you run your code to clean the data\n"
   ]
  },
  {
   "cell_type": "markdown",
   "metadata": {},
   "source": [
    "# a)Cleaning the box office movies data"
   ]
  },
  {
   "cell_type": "code",
   "execution_count": 40,
   "metadata": {},
   "outputs": [
    {
     "data": {
      "text/plain": [
       "title                0\n",
       "studio               5\n",
       "domestic_gross      28\n",
       "foreign_gross     1350\n",
       "year                 0\n",
       "dtype: int64"
      ]
     },
     "execution_count": 40,
     "metadata": {},
     "output_type": "execute_result"
    }
   ],
   "source": [
    "#first step of data cleaning\n",
    "\n",
    "#checking missing values in the datasets\n",
    "bom_movie_gross_data.isna().sum()\n",
    "\n",
    "\n"
   ]
  },
  {
   "cell_type": "code",
   "execution_count": 41,
   "metadata": {},
   "outputs": [],
   "source": [
    "# Drop missing values from the column studio since they are only five they won't affect the data much\n",
    "bom_movie_gross_data.dropna(subset= 'studio', inplace = True)"
   ]
  },
  {
   "cell_type": "code",
   "execution_count": 42,
   "metadata": {},
   "outputs": [],
   "source": [
    "# Also drop the missing values from \n",
    "bom_movie_gross_data.dropna(subset = 'domestic_gross', inplace = True)"
   ]
  },
  {
   "cell_type": "code",
   "execution_count": 43,
   "metadata": {},
   "outputs": [],
   "source": [
    "#converting the data type of values in foreign gross column into float\n",
    "bom_movie_gross_data['foreign_gross'] = bom_movie_gross_data['foreign_gross'].str.replace(',', '').astype(float)\n"
   ]
  },
  {
   "cell_type": "code",
   "execution_count": 44,
   "metadata": {},
   "outputs": [],
   "source": [
    "# the distribution of foreign_gross is right skewed we'll use median to replace our misssing data\n",
    "bom_movie_gross_data['foreign_gross'].fillna(bom_movie_gross_data['foreign_gross'].median(), inplace = True)"
   ]
  },
  {
   "cell_type": "code",
   "execution_count": 45,
   "metadata": {},
   "outputs": [
    {
     "name": "stdout",
     "output_type": "stream",
     "text": [
      "<class 'pandas.core.frame.DataFrame'>\n",
      "Index: 3356 entries, 0 to 3386\n",
      "Data columns (total 5 columns):\n",
      " #   Column          Non-Null Count  Dtype  \n",
      "---  ------          --------------  -----  \n",
      " 0   title           3356 non-null   object \n",
      " 1   studio          3356 non-null   object \n",
      " 2   domestic_gross  3356 non-null   float64\n",
      " 3   foreign_gross   3356 non-null   float64\n",
      " 4   year            3356 non-null   int64  \n",
      "dtypes: float64(2), int64(1), object(2)\n",
      "memory usage: 157.3+ KB\n"
     ]
    }
   ],
   "source": [
    " #checking that our dataset is well cleaned\n",
    "bom_movie_gross_data.info()"
   ]
  },
  {
   "cell_type": "code",
   "execution_count": 46,
   "metadata": {},
   "outputs": [
    {
     "data": {
      "image/png": "[encoded data removed]",
      "text/plain": [
       "<Figure size 800x600 with 1 Axes>"
      ]
     },
     "metadata": {},
     "output_type": "display_data"
    }
   ],
   "source": [
    "\n",
    "\n",
    "\n",
    "x = bom_movie_gross_data['domestic_gross']\n",
    "y = bom_movie_gross_data['year']\n",
    "\n",
    "# Create the plot\n",
    "fig, ax = plt.subplots(figsize=(8, 6))\n",
    "\n",
    "# Plot with scatter()\n",
    "ax.scatter(x, y, alpha=0.5, color='blue', marker='o', edgecolors='black')\n",
    "\n",
    "# Set x and y axes labels, legend, and title\n",
    "ax.set_xlabel('Domestic Gross')\n",
    "ax.set_ylabel('Year')\n",
    "ax.set_title('Box Office Movies')\n",
    "\n",
    "# Add gridlines\n",
    "ax.grid(True)\n",
    "\n",
    "# Show plot\n",
    "plt.show()\n"
   ]
  },
  {
   "cell_type": "markdown",
   "metadata": {},
   "source": [
    "# b)Cleaning movie budgets "
   ]
  },
  {
   "cell_type": "code",
   "execution_count": 47,
   "metadata": {},
   "outputs": [
    {
     "data": {
      "text/plain": [
       "id                   0\n",
       "release_date         0\n",
       "movie                0\n",
       "production_budget    0\n",
       "domestic_gross       0\n",
       "worldwide_gross      0\n",
       "dtype: int64"
      ]
     },
     "execution_count": 47,
     "metadata": {},
     "output_type": "execute_result"
    }
   ],
   "source": [
    "tn_movie_budgets_data.isna().sum()"
   ]
  },
  {
   "cell_type": "code",
   "execution_count": 48,
   "metadata": {},
   "outputs": [
    {
     "name": "stdout",
     "output_type": "stream",
     "text": [
      "The column Movie has 84 duplicated rows.\n"
     ]
    }
   ],
   "source": [
    "#since there are no missing gata we check for duplicates\n",
    "#checking for duplicates in movie\n",
    "def unique_column_duplicates(data, column):\n",
    "    \n",
    "    \n",
    "    duplicated_count = data[column].duplicated().sum()\n",
    "    \n",
    "    if duplicated_count == 0:\n",
    "        print(f\"The column {column.title()} has no duplicates.\")\n",
    "    else:\n",
    "        print(f\"The column {column.title()} has {duplicated_count} duplicated rows.\")\n",
    "\n",
    "\n",
    "unique_column_duplicates(tn_movie_budgets_data, 'movie')\n"
   ]
  },
  {
   "cell_type": "code",
   "execution_count": 49,
   "metadata": {},
   "outputs": [
    {
     "name": "stdout",
     "output_type": "stream",
     "text": [
      "The column Id has 5682 duplicated rows.\n"
     ]
    }
   ],
   "source": [
    "#checking for duplicates in id column\n",
    "\n",
    "def unique_column_duplicates(data, column):\n",
    "    \n",
    "    \n",
    "    duplicated_count = data[column].duplicated().sum()\n",
    "    \n",
    "    if duplicated_count == 0:\n",
    "        print(f\"The column {column.title()} has no duplicates.\")\n",
    "    else:\n",
    "        print(f\"The column {column.title()} has {duplicated_count} duplicated rows.\")\n",
    "\n",
    "\n",
    "unique_column_duplicates(tn_movie_budgets_data, 'id')\n"
   ]
  },
  {
   "cell_type": "code",
   "execution_count": 50,
   "metadata": {},
   "outputs": [],
   "source": [
    "#  dropping duplicates from movie column\n",
    "tn_movie_budgets_data.drop_duplicates(subset= \"movie\", keep=\"first\", inplace=True)"
   ]
  },
  {
   "cell_type": "code",
   "execution_count": 51,
   "metadata": {},
   "outputs": [
    {
     "name": "stdout",
     "output_type": "stream",
     "text": [
      "<class 'pandas.core.frame.DataFrame'>\n",
      "Index: 5698 entries, 0 to 5781\n",
      "Data columns (total 6 columns):\n",
      " #   Column             Non-Null Count  Dtype \n",
      "---  ------             --------------  ----- \n",
      " 0   id                 5698 non-null   int64 \n",
      " 1   release_date       5698 non-null   object\n",
      " 2   movie              5698 non-null   object\n",
      " 3   production_budget  5698 non-null   object\n",
      " 4   domestic_gross     5698 non-null   object\n",
      " 5   worldwide_gross    5698 non-null   object\n",
      "dtypes: int64(1), object(5)\n",
      "memory usage: 311.6+ KB\n"
     ]
    }
   ],
   "source": [
    "tn_movie_budgets_data.info()"
   ]
  },
  {
   "cell_type": "markdown",
   "metadata": {},
   "source": [
    "# c)Cleaning movie basics\n"
   ]
  },
  {
   "cell_type": "code",
   "execution_count": 52,
   "metadata": {},
   "outputs": [
    {
     "data": {
      "text/plain": [
       "movie_id           0\n",
       "primary_title      0\n",
       "original_title     0\n",
       "start_year         0\n",
       "runtime_minutes    3\n",
       "genres             0\n",
       "dtype: int64"
      ]
     },
     "execution_count": 52,
     "metadata": {},
     "output_type": "execute_result"
    }
   ],
   "source": [
    "#first step of data cleaning\n",
    "#checking for missing values\n",
    "movie_basics_data.isna().sum()"
   ]
  },
  {
   "cell_type": "code",
   "execution_count": 53,
   "metadata": {},
   "outputs": [
    {
     "data": {
      "text/plain": [
       "0    175.0\n",
       "1    114.0\n",
       "2    122.0\n",
       "4     80.0\n",
       "5     75.0\n",
       "7     83.0\n",
       "9     82.0\n",
       "Name: runtime_minutes, dtype: float64"
      ]
     },
     "execution_count": 53,
     "metadata": {},
     "output_type": "execute_result"
    }
   ],
   "source": [
    "#dropping the rows\n",
    "movie_basics_data['runtime_minutes'].dropna()\n"
   ]
  },
  {
   "cell_type": "code",
   "execution_count": 54,
   "metadata": {},
   "outputs": [
    {
     "name": "stdout",
     "output_type": "stream",
     "text": [
      "<class 'pandas.core.frame.DataFrame'>\n",
      "RangeIndex: 10 entries, 0 to 9\n",
      "Data columns (total 6 columns):\n",
      " #   Column           Non-Null Count  Dtype  \n",
      "---  ------           --------------  -----  \n",
      " 0   movie_id         10 non-null     object \n",
      " 1   primary_title    10 non-null     object \n",
      " 2   original_title   10 non-null     object \n",
      " 3   start_year       10 non-null     int64  \n",
      " 4   runtime_minutes  7 non-null      float64\n",
      " 5   genres           10 non-null     object \n",
      "dtypes: float64(1), int64(1), object(4)\n",
      "memory usage: 612.0+ bytes\n"
     ]
    }
   ],
   "source": [
    "movie_basics_data.info()"
   ]
  },
  {
   "cell_type": "code",
   "execution_count": 55,
   "metadata": {},
   "outputs": [
    {
     "data": {
      "image/png": "[encoded data removed]",
      "text/plain": [
       "<Figure size 640x480 with 1 Axes>"
      ]
     },
     "metadata": {},
     "output_type": "display_data"
    }
   ],
   "source": [
    "#checking for outliers in movie basics\n",
    "data = movie_basics_data\n",
    "data.boxplot(column ='runtime_minutes')\n",
    "plt.show()"
   ]
  },
  {
   "cell_type": "code",
   "execution_count": 56,
   "metadata": {},
   "outputs": [],
   "source": [
    "# dealing with outliers\n",
    "Q1 = movie_basics_data['runtime_minutes'].quantile(0.25)\n",
    "Q3 = movie_basics_data['runtime_minutes'].quantile(0.75)\n",
    "IQR = Q3 - Q1\n",
    "\n",
    "# Filter out data points beyond the IQR range\n",
    "data_no_outliers = movie_basics_data[(movie_basics_data['runtime_minutes'] >= Q1 - 1.5 * IQR)\n",
    "                                     & (movie_basics_data['runtime_minutes'] <= Q3 + 1.5 * IQR)]\n"
   ]
  },
  {
   "cell_type": "code",
   "execution_count": 57,
   "metadata": {},
   "outputs": [
    {
     "name": "stdout",
     "output_type": "stream",
     "text": [
      "<class 'pandas.core.frame.DataFrame'>\n",
      "RangeIndex: 10 entries, 0 to 9\n",
      "Data columns (total 6 columns):\n",
      " #   Column           Non-Null Count  Dtype  \n",
      "---  ------           --------------  -----  \n",
      " 0   movie_id         10 non-null     object \n",
      " 1   primary_title    10 non-null     object \n",
      " 2   original_title   10 non-null     object \n",
      " 3   start_year       10 non-null     int64  \n",
      " 4   runtime_minutes  7 non-null      float64\n",
      " 5   genres           10 non-null     object \n",
      "dtypes: float64(1), int64(1), object(4)\n",
      "memory usage: 612.0+ bytes\n"
     ]
    }
   ],
   "source": [
    "movie_basics_data.info()"
   ]
  },
  {
   "cell_type": "code",
   "execution_count": 58,
   "metadata": {},
   "outputs": [
    {
     "name": "stdout",
     "output_type": "stream",
     "text": [
      "The column Movie_Id has no duplicates.\n"
     ]
    }
   ],
   "source": [
    "# Checking for duplicates\n",
    "def unique_column_duplicates(data, column):\n",
    "    \n",
    "    # Check for duplicates in the specified column\n",
    "    duplicated_count = data[column].duplicated().sum()\n",
    "    \n",
    "    if duplicated_count == 0:\n",
    "        print(f\"The column {column.title()} has no duplicates.\")\n",
    "    else:\n",
    "        print(f\"The column {column.title()} has {duplicated_count} duplicated rows.\")\n",
    "\n",
    "\n",
    "unique_column_duplicates(movie_basics_data, 'movie_id')\n"
   ]
  },
  {
   "cell_type": "markdown",
   "metadata": {},
   "source": [
    "# d)Cleaning movie ratings"
   ]
  },
  {
   "cell_type": "code",
   "execution_count": 59,
   "metadata": {},
   "outputs": [
    {
     "data": {
      "text/plain": [
       "movie_id         0\n",
       "averagerating    0\n",
       "numvotes         0\n",
       "dtype: int64"
      ]
     },
     "execution_count": 59,
     "metadata": {},
     "output_type": "execute_result"
    }
   ],
   "source": [
    "#first check for missing values\n",
    "\n",
    "movie_ratings_data.isna().sum()"
   ]
  },
  {
   "cell_type": "code",
   "execution_count": 60,
   "metadata": {},
   "outputs": [
    {
     "name": "stdout",
     "output_type": "stream",
     "text": [
      "The column Movie_Id has no duplicates.\n"
     ]
    }
   ],
   "source": [
    "unique_column_duplicates(movie_ratings_data, 'movie_id')"
   ]
  },
  {
   "cell_type": "code",
   "execution_count": 61,
   "metadata": {},
   "outputs": [
    {
     "data": {
      "image/png": "[encoded data removed]",
      "text/plain": [
       "<Figure size 640x480 with 1 Axes>"
      ]
     },
     "metadata": {},
     "output_type": "display_data"
    }
   ],
   "source": [
    "#checking for outliers in movie basics\n",
    "data = movie_ratings_data\n",
    "data.boxplot(column ='averagerating')\n",
    "plt.show()"
   ]
  },
  {
   "cell_type": "code",
   "execution_count": 62,
   "metadata": {},
   "outputs": [],
   "source": [
    "# dealing with outliers\n",
    "Q1 = movie_ratings_data['averagerating'].quantile(0.25)\n",
    "Q3 = movie_ratings_data['averagerating'].quantile(0.75)\n",
    "IQR = Q3 - Q1\n",
    "\n",
    "# Filter out data points beyond the IQR range\n",
    "data_no_outliers = movie_ratings_data[(movie_ratings_data['averagerating'] >= Q1 - 1.5 * IQR)\n",
    "                                     & (movie_ratings_data['averagerating'] <= Q3 + 1.5 * IQR)]"
   ]
  },
  {
   "cell_type": "code",
   "execution_count": 63,
   "metadata": {},
   "outputs": [
    {
     "name": "stdout",
     "output_type": "stream",
     "text": [
      "<class 'pandas.core.frame.DataFrame'>\n",
      "RangeIndex: 10 entries, 0 to 9\n",
      "Data columns (total 3 columns):\n",
      " #   Column         Non-Null Count  Dtype  \n",
      "---  ------         --------------  -----  \n",
      " 0   movie_id       10 non-null     object \n",
      " 1   averagerating  10 non-null     float64\n",
      " 2   numvotes       10 non-null     int64  \n",
      "dtypes: float64(1), int64(1), object(1)\n",
      "memory usage: 372.0+ bytes\n"
     ]
    }
   ],
   "source": [
    "movie_ratings_data.info()"
   ]
  },
  {
   "cell_type": "code",
   "execution_count": 64,
   "metadata": {},
   "outputs": [
    {
     "data": {
      "image/png": "[encoded data removed]",
      "text/plain": [
       "<Figure size 640x480 with 1 Axes>"
      ]
     },
     "metadata": {},
     "output_type": "display_data"
    }
   ],
   "source": [
    "#checking for outliers in movie basics\n",
    "data = movie_basics_data\n",
    "data.boxplot(column ='runtime_minutes')\n",
    "plt.show()\n"
   ]
  },
  {
   "cell_type": "markdown",
   "metadata": {},
   "source": [
    "# Tidyng the dataset through merging\n",
    "- We are going to merge certain datasets for easier analysis:-\n",
    "* movie basics and movie ratings data"
   ]
  },
  {
   "cell_type": "code",
   "execution_count": 65,
   "metadata": {},
   "outputs": [
    {
     "name": "stdout",
     "output_type": "stream",
     "text": [
      "    movie_id                    primary_title              original_title  \\\n",
      "0  tt0063540                        Sunghursh                   Sunghursh   \n",
      "1  tt0066787  One Day Before the Rainy Season             Ashad Ka Ek Din   \n",
      "2  tt0069049       The Other Side of the Wind  The Other Side of the Wind   \n",
      "3  tt0069204                  Sabse Bada Sukh             Sabse Bada Sukh   \n",
      "4  tt0100275         The Wandering Soap Opera       La Telenovela Errante   \n",
      "5  tt0111414                      A Thin Life                 A Thin Life   \n",
      "6  tt0112502                          Bigfoot                     Bigfoot   \n",
      "7  tt0137204                  Joe Finds Grace             Joe Finds Grace   \n",
      "8  tt0139613                       O Silêncio                  O Silêncio   \n",
      "9  tt0144449            Nema aviona za Zagreb       Nema aviona za Zagreb   \n",
      "\n",
      "   start_year  runtime_minutes                      genres   movie_id  \\\n",
      "0        2013            175.0          Action,Crime,Drama  tt0063540   \n",
      "1        2019            114.0             Biography,Drama  tt0066787   \n",
      "2        2018            122.0                       Drama  tt0069049   \n",
      "3        2018              NaN                Comedy,Drama  tt0069204   \n",
      "4        2017             80.0        Comedy,Drama,Fantasy  tt0100275   \n",
      "5        2018             75.0                      Comedy       None   \n",
      "6        2017              NaN             Horror,Thriller  tt0112502   \n",
      "7        2017             83.0  Adventure,Animation,Comedy  tt0137204   \n",
      "8        2012              NaN         Documentary,History       None   \n",
      "9        2012             82.0                   Biography       None   \n",
      "\n",
      "   averagerating  numvotes  \n",
      "0            7.0      77.0  \n",
      "1            7.2      43.0  \n",
      "2            6.9    4517.0  \n",
      "3            6.1      13.0  \n",
      "4            6.5     119.0  \n",
      "5            NaN       NaN  \n",
      "6            4.1      32.0  \n",
      "7            8.1     263.0  \n",
      "8            NaN       NaN  \n",
      "9            NaN       NaN  \n"
     ]
    }
   ],
   "source": [
    "\n",
    "# merging movie basics with movie ratings\n",
    "# Establish a connection to the SQLite database\n",
    "conn = sqlite3.connect('data/im.db')\n",
    "\n",
    "# Create a cursor object\n",
    "cur = conn.cursor()\n",
    "\n",
    "# SQL Query\n",
    "query = \"\"\"\n",
    "    SELECT *\n",
    "    FROM movie_basics\n",
    "    FULL JOIN movie_ratings ON movie_basics.movie_id = movie_ratings.movie_id\n",
    "    LIMIT 10;\n",
    "\"\"\"\n",
    "\n",
    "# Execute query and fetch data\n",
    "cur.execute(query)\n",
    "movie_data = cur.fetchall()\n",
    "\n",
    "# Get column names from the cursor description\n",
    "columns = [desc[0] for desc in cur.description]\n",
    "\n",
    "# Create a DataFrame using fetched data and columns\n",
    "df = pd.DataFrame(movie_data, columns=columns)\n",
    "\n",
    "# Display the DataFrame\n",
    "print(df.head(10))\n",
    "# Close the cursor and database connection when done\n",
    "cur.close()\n",
    "conn.close()\n"
   ]
  },
  {
   "cell_type": "markdown",
   "metadata": {},
   "source": [
    "## 5. Data Analysis and Evaluation\n",
    "Evaluate how well your work solves the stated business problem.\n",
    "\n",
    "***\n",
    "Questions to consider:\n",
    "* How do you interpret the results?\n",
    "* How well does your model fit your data? How much better is this than your baseline model?\n",
    "* How confident are you that your results would generalize beyond the data you have?\n",
    "* How confident are you that this model would benefit the business if put into use?\n",
    "***\n",
    "\n",
    "\n",
    "In the context of exploring successful films at the box office, the focus was more on descriptive analysis rather than building predictive models. Here's an outline of the approach taken for analyzing the data:\n",
    "The analysis focused on identifying attributes associated with box office success, aligning with the business problem of guiding Microsoft's movie studio in selecting film types.\n",
    "### Analysis Approach:\n",
    "1. **Exploratory Data Analysis (EDA):** Utilized statistical and visualization techniques to understand the distribution of variables, identify trends, and uncover patterns in successful movies.\n",
    "   \n",
    "2. **Feature Engineering:** Processed and transformed raw data, creating  combining existing movie basics and movie ratings to extract more meaningful insights. For instance, analyzing genres, ratings, and other movie attributes.\n",
    "\n",
    "3. **Correlation and Patterns:** Investigated relations among variables to identify relationships that contribute to a movie's success at the box office.\n",
    "\n",
    "\n",
    "- The insights derived from the analysis can serve as valuable guidance for Microsoft's movie studio in making informed decisions.\n",
    "- Implementing strategies aligned with these insights could potentially increase the studio's chances of creating successful movies that reasonate with audiences."
   ]
  },
  {
   "cell_type": "code",
   "execution_count": 66,
   "metadata": {},
   "outputs": [
    {
     "name": "stdout",
     "output_type": "stream",
     "text": [
      "936700000.0\n",
      "none\n"
     ]
    }
   ],
   "source": [
    "#groupby the desired column\n",
    "average_ratings = bom_movie_gross_data.groupby('domestic_gross')['domestic_gross'].mean()\n",
    "\n",
    "highest_average_rating = average_ratings.max()\n",
    "print(highest_average_rating)\n",
    "for domestic_gross in bom_movie_gross_data:\n",
    "    if domestic_gross == '936700000':\n",
    "        print (bom_movie_gross_data['foreign_gross'])\n",
    "        \n",
    "else:\n",
    "    print(\"none\")\n"
   ]
  },
  {
   "cell_type": "markdown",
   "metadata": {},
   "source": [
    "## a) Studio Performance with earnings:\n",
    "\n",
    "Which genres have been the most successful at the box office in terms of earnings?\n",
    "Are there specific genres that consistently outperform others?"
   ]
  },
  {
   "cell_type": "code",
   "execution_count": 67,
   "metadata": {},
   "outputs": [
    {
     "name": "stdout",
     "output_type": "stream",
     "text": [
      "The top performing studios;\n",
      "P/DW:157250000.0\n",
      "BV:92100000.0\n",
      "Sony:63500000.0\n",
      "WB (NL):63100000.0\n",
      "Fox:62150000.0\n"
     ]
    }
   ],
   "source": [
    "#finding the top most performing studio\n",
    "studio_earnings = bom_movie_gross_data.groupby('studio')['domestic_gross'].median().sort_values(ascending=False)\n",
    "#select top 10 studios\n",
    "TopStudios = studio_earnings.head(5)\n",
    "#Now displaying them\n",
    "print(\"The top performing studios;\")\n",
    "for studio,earnings in TopStudios.items():\n",
    "    print(f'{studio}:{earnings:}')"
   ]
  },
  {
   "cell_type": "code",
   "execution_count": 68,
   "metadata": {},
   "outputs": [
    {
     "data": {
      "image/png": "[encoded data removed]",
      "text/plain": [
       "<Figure size 640x480 with 1 Axes>"
      ]
     },
     "metadata": {},
     "output_type": "display_data"
    }
   ],
   "source": [
    "\n",
    "\n",
    "custom_color = ['#336699', '#6699CC', '#99CCFF']\n",
    " # Custom color for the bars\n",
    "\n",
    "# TopStudios is your DataFrame containing studio and domestic gross information\n",
    "TopStudios.plot(kind='bar', color=custom_color)\n",
    "plt.title('Top Performing Studios')\n",
    "plt.xlabel('Studio')\n",
    "plt.ylabel('Domestic Gross')\n",
    "\n",
    "# Adding grid lines\n",
    "plt.grid(axis='y', linestyle='--', alpha=0.7)\n",
    "\n",
    "# Rotating x-axis labels \n",
    "plt.xticks(rotation=45)\n",
    "\n",
    "# Adjusting layout \n",
    "plt.tight_layout()\n",
    "\n",
    "# Show plot\n",
    "plt.show()\n"
   ]
  },
  {
   "cell_type": "markdown",
   "metadata": {},
   "source": [
    "# Evaluation of Top performing Studios\n",
    "From the visualization above comparing each studio with the earnings we get to see that the top three performing studios are:-\n",
    "\n",
    "*(P/DW)-Paramount Pictures/Dream Works\n",
    "\n",
    "*(BV)-Buena Vista\n",
    "\n",
    "*Sony\n",
    "\n",
    "Microsoft can partner and collaborate with this top performing studios will enhance chances of producing movies with high revenues as we can capitalize on their existing success and market presence."
   ]
  },
  {
   "cell_type": "markdown",
   "metadata": {},
   "source": [
    "## b) Genre and rating:\n",
    "Which genre is most viewed and how is it rated?"
   ]
  },
  {
   "cell_type": "code",
   "execution_count": 69,
   "metadata": {},
   "outputs": [],
   "source": [
    "\n",
    "\n",
    "\n",
    "column_names = ['movie-id', 'primary_title', 'original_title', 'start_year', 'runtime_minutes', 'genres', 'movie_id', 'averagerating', 'numvotes']\n",
    "\n",
    "# Create a DataFrame with the correct number of columns\n",
    "movie_data_df = pd.DataFrame(movie_data, columns=column_names)\n"
   ]
  },
  {
   "cell_type": "code",
   "execution_count": 70,
   "metadata": {},
   "outputs": [
    {
     "name": "stdout",
     "output_type": "stream",
     "text": [
      "The top performing genre;\n",
      "Adventure,Animation,Comedy:8.1\n",
      "Biography,Drama:7.2\n",
      "Action,Crime,Drama:7.0\n",
      "Drama:6.9\n",
      "Comedy,Drama,Fantasy:6.5\n"
     ]
    }
   ],
   "source": [
    "#finding the top most performing genre\n",
    "movie_genre = movie_data_df.groupby('genres')['averagerating'].median().sort_values(ascending=False)\n",
    "#select top 10 genres\n",
    "TopGenre = movie_genre.head(5)\n",
    "#Now displayong them\n",
    "print(\"The top performing genre;\")\n",
    "for genres,averagerating in TopGenre.items():\n",
    "    print(f'{genres}:{averagerating:}')"
   ]
  },
  {
   "cell_type": "code",
   "execution_count": 71,
   "metadata": {},
   "outputs": [
    {
     "data": {
      "image/png": "[encoded data removed]",
      "text/plain": [
       "<Figure size 640x480 with 1 Axes>"
      ]
     },
     "metadata": {},
     "output_type": "display_data"
    }
   ],
   "source": [
    "\n",
    "#custom colors\n",
    "custom_color = ['#336699', '#6699CC', '#99CCFF']\n",
    "  \n",
    "\n",
    "TopGenre.plot(kind='bar', color=custom_color)\n",
    "plt.title('Top Performing Genre')\n",
    "plt.xlabel('Genre')\n",
    "plt.ylabel('Average Rating')\n",
    "\n",
    "# Adding grid lines\n",
    "plt.grid(axis='y', linestyle='--', alpha=0.7)\n",
    "\n",
    "# Rotating x-axis labels \n",
    "plt.xticks(rotation=90)\n",
    "\n",
    "# Adding horizontal line at average rating 5 for reference \n",
    "plt.axhline(y=5, color='red', linestyle='--', linewidth=1)\n",
    "\n",
    "# Adjusting layout \n",
    "plt.tight_layout()\n",
    "\n",
    "# Show plot\n",
    "plt.show()\n"
   ]
  },
  {
   "cell_type": "markdown",
   "metadata": {},
   "source": [
    "# Evaluation of top performing genres\n",
    "From the visualization above comparing each genre with the ratings we get to see that the top three performing studios are:-\n",
    "\n",
    "*Adventure,Animation,Comedy\n",
    "\n",
    "*Biography,Drama\n",
    "\n",
    "*Action,Crime,Drama\n",
    "\n",
    "Investing in this particular genres could prove profitable as they are highly rated by the audience.\n"
   ]
  },
  {
   "cell_type": "markdown",
   "metadata": {},
   "source": [
    "## c) Budget vs. Revenue:\n",
    "\n",
    "Is there a correlation between a movie's budget and its box office success?\n",
    "Do higher budget films tend to earn more revenue?\n"
   ]
  },
  {
   "cell_type": "code",
   "execution_count": 72,
   "metadata": {},
   "outputs": [
    {
     "name": "stdout",
     "output_type": "stream",
     "text": [
      "The relationship between budget and domestic gross:\n",
      "306000000.0: 936662225.0\n",
      "425000000.0: 760507625.0\n",
      "317000000.0: 620181382.0\n",
      "330600000.0: 459005868.0\n",
      "79300000.0: 421785283.0\n"
     ]
    }
   ],
   "source": [
    "# Remove dollar signs and commas, then convert to float\n",
    "tn_movie_budgets_data['production_budget'] = tn_movie_budgets_data['production_budget'].replace('[$,]', '', regex=True).astype(float)\n",
    "tn_movie_budgets_data['domestic_gross'] = tn_movie_budgets_data['domestic_gross'].replace('[$,]', '', regex=True).astype(float)\n",
    "\n",
    "# Calculate the relationship between budget and domestic gross\n",
    "Budget_and_revenue = tn_movie_budgets_data.groupby('production_budget')['domestic_gross'].median().sort_values(ascending=False)\n",
    "BR = Budget_and_revenue.head(5)\n",
    "\n",
    "# Displaying the relationship\n",
    "print(\"The relationship between budget and domestic gross:\")\n",
    "for production_budget, domestic_gross in BR.items():\n",
    "    print(f'{production_budget}: {domestic_gross}')\n",
    "\n"
   ]
  },
  {
   "cell_type": "code",
   "execution_count": 73,
   "metadata": {},
   "outputs": [
    {
     "data": {
      "image/png": "[encoded data removed]",
      "text/plain": [
       "<Figure size 640x480 with 1 Axes>"
      ]
     },
     "metadata": {},
     "output_type": "display_data"
    }
   ],
   "source": [
    "\n",
    "\n",
    " # Custom color for the bars\n",
    "custom_color = ['#336699', '#6699CC', '#99CCFF']\n",
    "\n",
    "\n",
    "# Plotting the bar chart\n",
    "BR.plot(kind='bar', color=custom_color)\n",
    "plt.title('Relationship between Budgets and Domestic Gross')\n",
    "plt.xlabel('Production Budget')\n",
    "plt.ylabel('Domestic Gross')\n",
    "\n",
    "# Adding grid lines\n",
    "plt.grid(axis='y', linestyle='--', alpha=0.7)\n",
    "\n",
    "# Rotating x-axis labels \n",
    "plt.xticks(rotation=45)\n",
    "\n",
    "# Adding a legend \n",
    "plt.legend(['Domestic Gross'])\n",
    "\n",
    "# Show plot\n",
    "plt.tight_layout()  \n",
    "plt.show()\n"
   ]
  },
  {
   "cell_type": "markdown",
   "metadata": {},
   "source": [
    "# Evaluation of budget and revenue\n",
    "From the visualization above comparing the production budget with the domestic gross we get to see that the higher the production budget the higher the domestic gross (revenue).This means that strategic investments ought to be made in movies inorder for it to result in profitable revenues ."
   ]
  },
  {
   "cell_type": "markdown",
   "metadata": {},
   "source": [
    "## d) Budget and worldwide revenue:\n",
    "\n",
    "Do highly rated movies tend to perform better at the box office in terms of revenue?\n",
    "Is there a correlation between ratings and the domestic gross?"
   ]
  },
  {
   "cell_type": "code",
   "execution_count": 74,
   "metadata": {},
   "outputs": [
    {
     "name": "stdout",
     "output_type": "stream",
     "text": [
      "The relationship between budget and worldwide gross:\n",
      "425000000.0: 2776345279.0\n",
      "306000000.0: 2053311220.0\n",
      "330600000.0: 1403013963.0\n",
      "317000000.0: 1316721747.0\n",
      "215000000.0: 1151534174.5\n"
     ]
    }
   ],
   "source": [
    "# Remove dollar signs and commas, then convert to float\n",
    "tn_movie_budgets_data['production_budget'] = tn_movie_budgets_data['production_budget'].replace('[$,]', '', regex=True).astype(float)\n",
    "tn_movie_budgets_data['worldwide_gross'] = tn_movie_budgets_data['worldwide_gross'].replace('[$,]', '', regex=True).astype(float)\n",
    "\n",
    "# Calculating the relationship between budget and worldwide gross\n",
    "Budget_and_revenueW = tn_movie_budgets_data.groupby('production_budget')['worldwide_gross'].median().sort_values(ascending=False)\n",
    "BRW = Budget_and_revenueW.head(5)\n",
    "\n",
    "# Displaying the relationship\n",
    "print(\"The relationship between budget and worldwide gross:\")\n",
    "for production_budget, worldwide_gross in BRW.items():\n",
    "    print(f'{production_budget}: {worldwide_gross}')\n",
    "\n"
   ]
  },
  {
   "cell_type": "code",
   "execution_count": 75,
   "metadata": {},
   "outputs": [
    {
     "data": {
      "image/png": "[encoded data removed]",
      "text/plain": [
       "<Figure size 640x480 with 1 Axes>"
      ]
     },
     "metadata": {},
     "output_type": "display_data"
    }
   ],
   "source": [
    "\n",
    "\n",
    "# Custom color for the bars\n",
    "custom_color = ['#336699', '#6699CC', '#99CCFF']\n",
    " \n",
    "\n",
    "# Plotting the bar chart\n",
    "BRW.plot(kind='bar', color=custom_color)\n",
    "plt.title('Relationship between Budgets and Worldwide Gross')\n",
    "plt.xlabel('Production Budget')\n",
    "plt.ylabel('Worldwide Gross')\n",
    "\n",
    "# Adding grid lines\n",
    "plt.grid(axis='y', linestyle='--', alpha=0.7)\n",
    "\n",
    "# Rotating x-axis labels \n",
    "plt.xticks(rotation=45)\n",
    "\n",
    "# Adding a legend \n",
    "plt.legend(['Worldwide Gross'])\n",
    "\n",
    "# Show plot\n",
    "plt.tight_layout()  \n",
    "plt.show()\n"
   ]
  },
  {
   "cell_type": "markdown",
   "metadata": {},
   "source": [
    "# Evaluation of budget and worldwide revenue\n",
    "From the visualization above comparing the production budget with the worldwide gross we get to see that the higher the production budget the lower the worldwide gross (revenue).This means that strategic investments ought to be made in movies inorder for it to result in profitable revenues."
   ]
  },
  {
   "cell_type": "markdown",
   "metadata": {},
   "source": [
    "## 6. CONCLUSIONS\n",
    "Provide your conclusions about the work you've done, including any limitations or next steps.\n",
    "\n",
    "***\n",
    "Questions to consider:\n",
    "* What would you recommend the business do as a result of this work?\n",
    "* What are some reasons why your analysis might not fully solve the business problem?\n",
    "* What else could you do in the future to improve this project?\n",
    "***"
   ]
  },
  {
   "cell_type": "markdown",
   "metadata": {},
   "source": [
    "In conclusion, the analysis offers valuable insights into current box office trends, potentially aiding the decision-making process for the new movie studio. However, it's essential to continuously validate and update these insights to ensure their ongoing relevance in an ever-evolving entertainment landscape.\n",
    "\n",
    "## RECOMMENDATIONS\n",
    "As a reult of my work I would recommend Microsoft to implement the following steps as they would aid in Microsoft successful venture into creation of video content:\n",
    "## 1.Work with large studios\n",
    "Microsoft should aim to partner or even collaborate with established and larger film studios such as Paramount pictures/Dream Works(P/DW),Buena Vista pictures(BV) and SONY as this enhances the chance of producing movies with high revenues.\n",
    "## 2.Market Analysis\n",
    "Microsoft should produce the genres that are most highly rated are Adventure,Animation,Comedy,Biography,Drama,Action,Crime,Drama and are likely to bring in good returns .Monitoring of industry trends and audience preferences and performance of other movie sites to make informed decisions and adapt to its strategies for sustained success as things change and the preferences evolve with time.\n",
    "## 3.Strategic investments\n",
    "From our analysis we have seen that the higher the production budget , the higher the worldwide gross which is the earnings from the video content therefore it is important for Microsoft to consider strategic investments in or acquisitions of larger studios or even content from them to capitalize on their existing success and market presence and to build a diverse and successful movie portfolio .\n",
    "\n",
    "## LIMITATIONS\n",
    "Some of the reasons my analysis might not fully solve the business problem are highlighted below:\n",
    "## 1.Advanced Analytics\n",
    " Employment of predictive modeling to forecast future trends and potential success factors in the movie industry could prove to be more resourceful ,detailed and even more accurate in terms of the output derived from its analysis\n",
    "## 2.Temporal Context\n",
    "Trends in the entertainment industry evolve rapidly. The analysis might reflect current preferences but could become outdated as audience tastes change.\n",
    "## 3.Complex Factors\n",
    " Success in the movie industry involves multifaceted factors beyond data analysis, including marketing, timing, and creative aspects, which this analysis might not fully capture.\n",
    " \n",
    "## NEXT STEPS\n",
    "According to the analysis here are some ways to forge forward and even improve on the analysis that has been\n",
    "done.In future to improve on this project ,some next steps that can be taken include:\n",
    "## 1.Predictive modelling\n",
    "Incorporating advanced analytics such as AI to forecast future trends and success in the film industry to be well informed and prepared for future uncertainities. \n",
    "## 2.Collaborate with other movie studios\n",
    "From our analysis we could see that other studios perform better than others.Collaborating with this studios will enhance chances of producing movies with high revenues as we can capitalize on their existing success and market presence. \n",
    "## 3.Continuous analysis of the market and industry trends\n",
    "Continuously monitor industry trends and audience preferences to adapt strategies for creating movies that reasonate with viewers which could give a competitive edge in the diverse and fast changing industry.\n",
    "-By leveraging these insights and considering the limitations, the business could benefit from informed decision-making regarding film creation. However, continuous monitoring of industry shifts and a multidimensional approach beyond data analysis are crucial for sustained success in the dynamic movie industry."
   ]
  }
 ],
 "metadata": {
  "kernelspec": {
   "display_name": "learn-env",
   "language": "python",
   "name": "python3"
  },
  "language_info": {
   "codemirror_mode": {
    "name": "ipython",
    "version": 3
   },
   "file_extension": ".py",
   "mimetype": "text/x-python",
   "name": "python",
   "nbconvert_exporter": "python",
   "pygments_lexer": "ipython3",
   "version": "3.12.0"
  }
 },
 "nbformat": 4,
 "nbformat_minor": 2
}
